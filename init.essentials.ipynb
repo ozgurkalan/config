{
 "cells": [
  {
   "cell_type": "markdown",
   "metadata": {},
   "source": [
    "# Essentials\n",
    "## <span style=\"color:red\">fresh start</span>"
   ]
  },
  {
   "cell_type": "markdown",
   "metadata": {
    "ExecuteTime": {
     "end_time": "2020-07-14T07:57:57.577029Z",
     "start_time": "2020-07-14T07:57:57.567374Z"
    }
   },
   "source": [
    "---\n",
    "### essential awesome start to a new notebook for DK.\n",
    "\n",
    "\n",
    "run this notebook when starting a new one by:\n",
    "    __``%run init.essentials.ipynb``__\n",
    "    \n",
    "---"
   ]
  },
  {
   "cell_type": "markdown",
   "metadata": {},
   "source": [
    "# ⌦ reset and free memory"
   ]
  },
  {
   "cell_type": "code",
   "execution_count": 1,
   "metadata": {
    "ExecuteTime": {
     "end_time": "2023-02-06T05:55:48.332356Z",
     "start_time": "2023-02-06T05:55:48.254025Z"
    }
   },
   "outputs": [],
   "source": [
    "# force to reset state\n",
    "%reset -f "
   ]
  },
  {
   "cell_type": "markdown",
   "metadata": {},
   "source": [
    "# 💻 System"
   ]
  },
  {
   "cell_type": "code",
   "execution_count": 2,
   "metadata": {
    "ExecuteTime": {
     "end_time": "2023-02-06T05:55:48.348358Z",
     "start_time": "2023-02-06T05:55:48.335366Z"
    }
   },
   "outputs": [],
   "source": [
    "from pathlib import Path\n",
    "import os\n",
    "import sys\n",
    "sys.path.insert(0, \".\")"
   ]
  },
  {
   "cell_type": "markdown",
   "metadata": {},
   "source": [
    "# 🧩 Scikit"
   ]
  },
  {
   "cell_type": "code",
   "execution_count": 3,
   "metadata": {
    "ExecuteTime": {
     "end_time": "2023-02-06T05:55:50.788271Z",
     "start_time": "2023-02-06T05:55:48.351355Z"
    }
   },
   "outputs": [],
   "source": [
    "import pandas as pd\n",
    "import numpy as np\n",
    "\n",
    "# plotting\n",
    "import matplotlib.pyplot as plt\n",
    "import seaborn as sns\n",
    "# plt theme with seaborn theme\n",
    "sns.set_theme()\n",
    "\n",
    "%matplotlib inline"
   ]
  },
  {
   "cell_type": "markdown",
   "metadata": {},
   "source": [
    "# ✨ Ozcore"
   ]
  },
  {
   "cell_type": "code",
   "execution_count": 4,
   "metadata": {
    "ExecuteTime": {
     "end_time": "2023-02-06T05:55:52.419988Z",
     "start_time": "2023-02-06T05:55:50.790453Z"
    }
   },
   "outputs": [],
   "source": [
    "# homemade helpers\n",
    "from ozcore import core"
   ]
  },
  {
   "cell_type": "markdown",
   "metadata": {},
   "source": [
    "## 🐼 Pandas Options &  🌍 Jupyter Display"
   ]
  },
  {
   "cell_type": "code",
   "execution_count": 5,
   "metadata": {
    "ExecuteTime": {
     "end_time": "2023-02-06T05:55:52.435389Z",
     "start_time": "2023-02-06T05:55:52.421845Z"
    }
   },
   "outputs": [
    {
     "data": {
      "text/html": [
       "\n",
       "        <style>\n",
       "            div#notebook-container    { width: 97%; }\n",
       "            div#menubar-container     { width: 90%; }\n",
       "            div#maintoolbar-container { width: 90%; }\n",
       "        </style>\n",
       "        "
      ],
      "text/plain": [
       "<IPython.core.display.HTML object>"
      ]
     },
     "metadata": {},
     "output_type": "display_data"
    }
   ],
   "source": [
    "# Jupyter Notebook display options\n",
    "from IPython.display import display\n",
    "\n",
    "core.utils.jupyter.setup()"
   ]
  },
  {
   "cell_type": "markdown",
   "metadata": {},
   "source": [
    "---"
   ]
  },
  {
   "cell_type": "markdown",
   "metadata": {},
   "source": [
    "# 🟣 Colors"
   ]
  },
  {
   "cell_type": "code",
   "execution_count": 6,
   "metadata": {
    "ExecuteTime": {
     "end_time": "2023-02-06T05:55:52.466786Z",
     "start_time": "2023-02-06T05:55:52.437385Z"
    }
   },
   "outputs": [],
   "source": [
    "# some nice colors from http://colorbrewer2.org/\n",
    "# by Allen Downey, Scipy 2017, CompStats\n",
    "COLOR1 = '#7fc97f'\n",
    "COLOR2 = '#beaed4'\n",
    "COLOR3 = '#fdc086'\n",
    "COLOR4 = '#ffff99'\n",
    "COLOR5 = '#386cb0'"
   ]
  },
  {
   "cell_type": "markdown",
   "metadata": {},
   "source": [
    "---"
   ]
  }
 ],
 "metadata": {
  "interpreter": {
   "hash": "d1c6e8a4f4a2fc7574cd6ba6b598eca1444bf1dada01f81e21e17cc422a704e4"
  },
  "kernelspec": {
   "display_name": "OZ",
   "language": "python",
   "name": "oz"
  },
  "language_info": {
   "codemirror_mode": {
    "name": "ipython",
    "version": 3
   },
   "file_extension": ".py",
   "mimetype": "text/x-python",
   "name": "python",
   "nbconvert_exporter": "python",
   "pygments_lexer": "ipython3",
   "version": "3.10.9"
  }
 },
 "nbformat": 4,
 "nbformat_minor": 4
}
